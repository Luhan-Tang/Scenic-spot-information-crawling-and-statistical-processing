{
 "cells": [
  {
   "cell_type": "markdown",
   "metadata": {},
   "source": [
    "<h1 align = \"center\">北京师范大学2021～2022学年秋季学期期末大作业</h1>\n",
    "<h1 align = \"center\">（本科生）</h1>"
   ]
  },
  {
   "cell_type": "markdown",
   "metadata": {},
   "source": [
    "__课程名称：__<u> 交互式Python编程入门 </u>   &nbsp;&emsp;&emsp;&emsp; __任课教师姓名：__<u> 邓擎琼 </u>"
   ]
  },
  {
   "cell_type": "markdown",
   "metadata": {},
   "source": [
    "__卷面总分：__<u> 20 </u>   &nbsp;&emsp;&emsp;&emsp; __时长：__<u> 4周 </u> &nbsp;&emsp;&emsp;&emsp; __考试类别：__<u> 其他 </u>"
   ]
  },
  {
   "cell_type": "markdown",
   "metadata": {},
   "source": [
    "__培养单位：__<u> 统计学院 </u>   &nbsp;&emsp;&emsp;&emsp; __学  科：__<u> 统计学 </u> &nbsp;&emsp;&emsp;&emsp; 统计学__年级：__<u> 2020级 </u>"
   ]
  },
  {
   "cell_type": "markdown",
   "metadata": {},
   "source": [
    "__姓 名：__<u> 唐露函 </u>   &nbsp;&emsp;&emsp;&emsp; __学 号：__<u> 202011011028 </u>"
   ]
  },
  {
   "cell_type": "markdown",
   "metadata": {},
   "source": [
    "| 题号    |   第一题      |     第二题  |     第三题  |     第四题  |      第五题 |   总分  |\n",
    "|:--------|:---------:|:---------:|:---------:|:---------:|---------:|---------:|\n",
    "| 得分    |             |             |           |            |            |            |\n"
   ]
  },
  {
   "cell_type": "markdown",
   "metadata": {},
   "source": [
    "__阅卷教师（签字）：__<u> &emsp;&emsp;&emsp;&emsp;&emsp;&emsp;&emsp;&emsp;&emsp; &emsp;&emsp;&emsp;&emsp;</u>"
   ]
  },
  {
   "cell_type": "markdown",
   "metadata": {},
   "source": [
    "---"
   ]
  },
  {
   "cell_type": "markdown",
   "metadata": {
    "collapsed": true
   },
   "source": [
    "## 题目："
   ]
  },
  {
   "cell_type": "markdown",
   "metadata": {},
   "source": [
    "1. 读入“景点数据.xlsx”中的所有数据，该文件保存了去哪儿旅行2021年5月中国每个省/市/自治区的各150个景区的信息；\n",
    " <font color='red'>分值：3</font>\n",
    "&emsp;&emsp;**或者：**利用BeautifulSoup对“景点信息”文件夹中的所有网页进行解析，获得各个景点的信息，包括：景点名字、所在省份、级别、热门程度、景点描述、位置、价格以及月售票量，并把所有数据保存在电脑里，保存的数据和样式可依据文件——景点数据.xlsx ；  <font color='red'>分值：7</font>\n",
    "2. 得到所有的景点描述文字，对该文字进行分词以及词性分析，然后分别对其中两个字及以上的名词和形容词词语生成词云，并要求读入一张图像作为mask，同时词云中不考虑以下词语： ‘公园’ 、 ‘景区’ 和'度假区'；   <font color='red'>分值：5</font>\n",
    "3. 分别统计各省/市/自治区的5A景区、4A景区和3A景区的数量，对5A景区/4A景区/3A景区，分别绘制一张饼图显示各省/市/自治区该级别景区数量的比例，其中只对数量排在前15的各省/市/自治区进行单独处理，剩下各省/市/自治区统一处理；      \n",
    "**或者：**分别统计各省/市/自治区的5A景区、4A景区和3A景区的数量，对5A景区/4A景区/3A景区，分别绘制一张地图显示各省/市/自治区该级别景区的数量，并根据数据进行颜色映射; <font color='red'>分值：5</font>\n",
    "4. 根据景点的月售票量进行排序，并采用柱状图显示前20名的景点及其月售票量，设置纵坐标轴标签、图的标题；<font color='red'>分值：3</font>"
   ]
  },
  {
   "cell_type": "markdown",
   "metadata": {
    "collapsed": true
   },
   "source": [
    "## 承诺：本人承诺本程序是自己编写的，没有抄袭。\n",
    "这里写上你的不抄袭承诺！"
   ]
  },
  {
   "cell_type": "markdown",
   "metadata": {
    "collapsed": true
   },
   "source": [
    "第1题：利用BeautifulSoup对“景点信息”文件夹中的所有网页进行解析，获得各个景点的信息，包括：景点名字、所在省份、级别、热门程度、景点描述、位置、价格以及月售票量，并把所有数据保存在电脑里，保存的数据和样式可依据文件——景点数据.xlsx ； 分值：7"
   ]
  },
  {
   "cell_type": "code",
   "execution_count": 15,
   "metadata": {},
   "outputs": [],
   "source": [
    "#导入\n",
    "from bs4 import BeautifulSoup\n",
    "import os\n",
    "from openpyxl import Workbook\n",
    "import pandas as pd\n",
    "import xlwt\n",
    "#爬取数据\n",
    "header = {'User-Agent': 'Mozilla/5.0 (Windows NT 10.0; Win64; x64) AppleWebKit/537.36 (KHTML, like Gecko) Chrome/96.0.4664.93 Safari/537.36 Edg/96.0.1054.53'}\n",
    "curdir=r'D:\\Python作业\\大作业\\大作业\\景点信息'\n",
    "curdirr = os.listdir(curdir)\n",
    "#print(curdirr)\n",
    "#创建Excel表格\n",
    "shengfen=[]\n",
    "jingdian=[]\n",
    "xiaoliang=[]\n",
    "work_book=xlwt.Workbook(encoding='utf-8')\n",
    "for j in range(0,34):#34个省份\n",
    "    x = os.path.join(curdir,curdirr[10*j])#每个省份有10个文件\n",
    "    #print(x)\n",
    "    sf = x.split('_')[0].split('\\\\')[5]#0:保留上一个分割的元素再进行分割\n",
    "    #print(sf)\n",
    "    shengfen.append(sf)\n",
    "    sheet=work_book.add_sheet(sf)#创建省份的sheet\n",
    "    sheet.write(0,0,'name')\n",
    "    sheet.write(0,1,'level')\n",
    "    sheet.write(0,2,'hot')\n",
    "    sheet.write(0,3,'text')\n",
    "    sheet.write(0,4,'location')\n",
    "    sheet.write(0,5,'price')\n",
    "    sheet.write(0,6,'sale')\n",
    "    x1=x2=x3=x4=x5=x6=x7=1\n",
    "    \n",
    "    #遍历文件夹curdirr下的所有文件，不包括子文件夹中的文件\n",
    "    for f in curdirr[10*j:10*j+10]:\n",
    "        filename = os.path.join(curdir,f)\n",
    "        #print(filename)\n",
    "        soup=BeautifulSoup(open(filename,encoding='utf-8'),'lxml')                      \n",
    "        name = soup.find_all('a',{'class':'name'})#名称\n",
    "        #level = soup.find_all('span',{'class':'level'})#等级\n",
    "        hot=soup.find_all('span',{'class':'product_star_level'})#热度\n",
    "        text=soup.find_all('div',{'class':'intro color999'})#简介\n",
    "        location=soup.find_all('p',{'class':'address color999'})#位置\n",
    "        price=soup.find_all('span',{'class':'sight_item_price'})#价格\n",
    "        sale=soup.find_all('span',{'class':'hot_num'})#销量\n",
    "    \n",
    "        #-----------------------------------------------------------------\n",
    "        for i in name:\n",
    "            #print(i['title'])\n",
    "            names=i['title']\n",
    "            sheet.write(x1,0,names)\n",
    "            x1+=1\n",
    "            jingdian.append(names)\n",
    "        L = soup.find_all('div',class_='sight_item_detail clrfix')\n",
    "        for i in L:\n",
    "            level = i.find('span',{'class':'level'})\n",
    "            if level==None:\n",
    "                level=' '\n",
    "            else:\n",
    "                level=i.find('span',{'class':'level'}).text.strip()\n",
    "            #print(level)\n",
    "            levels=level\n",
    "            sheet.write(x2,1,levels)\n",
    "            x2+=1\n",
    "        for i in hot:\n",
    "            j=i.text\n",
    "            j=j[3:]\n",
    "            #print(j)\n",
    "            hots=j\n",
    "            sheet.write(x3,2,hots)\n",
    "            x3+=1\n",
    "        for i in text:\n",
    "            #print(i['title'])\n",
    "            texts=i['title']\n",
    "            sheet.write(x4,3,texts)\n",
    "            x4+=1\n",
    "            \n",
    "        for i in location:\n",
    "            j=i.text\n",
    "            j=j[3:]\n",
    "            #print(j)\n",
    "            locations=j\n",
    "            sheet.write(x5,4,locations)\n",
    "            x5+=1\n",
    "        for i in price:\n",
    "            j=i.text\n",
    "            j=j[1:-2]\n",
    "            #print(j)\n",
    "            prices=j\n",
    "            sheet.write(x6,5,prices)\n",
    "            x6+=1\n",
    "        for i in sale:\n",
    "            j=i.text\n",
    "            #print(j)\n",
    "            sales=int(j)\n",
    "            sheet.write(x7,6,sales)\n",
    "            x7+=1\n",
    "            xiaoliang.append(sales)\n",
    "\n",
    "work_book.save('Excel景点数据.xls')"
   ]
  },
  {
   "cell_type": "markdown",
   "metadata": {},
   "source": [
    "得到所有的景点描述文字，对该文字进行分词以及词性分析，然后分别对其中两个字及以上的名词和形容词词语生成词云，并要求读入一张图像作为mask，同时词云中不考虑以下词语： ‘公园’ 、 ‘景区’ 和'度假区'，得到类似如下的结果；  分值：5\n"
   ]
  },
  {
   "cell_type": "code",
   "execution_count": 2,
   "metadata": {},
   "outputs": [
    {
     "name": "stderr",
     "output_type": "stream",
     "text": [
      "Building prefix dict from the default dictionary ...\n",
      "Loading model from cache C:\\Users\\tlh\\AppData\\Local\\Temp\\jieba.cache\n",
      "Loading model cost 0.671 seconds.\n",
      "Prefix dict has been built successfully.\n"
     ]
    },
    {
     "data": {
      "image/png": "[encoded data removed]",
      "text/plain": [
       "<Figure size 432x288 with 1 Axes>"
      ]
     },
     "metadata": {
      "needs_background": "light"
     },
     "output_type": "display_data"
    },
    {
     "data": {
      "image/png": "[encoded data removed]",
      "text/plain": [
       "<Figure size 432x288 with 1 Axes>"
      ]
     },
     "metadata": {
      "needs_background": "light"
     },
     "output_type": "display_data"
    }
   ],
   "source": [
    "#导入\n",
    "from wordcloud import WordCloud\n",
    "from PIL import Image\n",
    "import numpy as np\n",
    "import jieba\n",
    "import numpy as np\n",
    "from wordcloud import STOPWORDS\n",
    "import jieba.posseg as jp\n",
    "Text = list()\n",
    "\n",
    "for i in shengfen:\n",
    "    a=pd.read_excel('Excel景点数据.xls',sheet_name=i)\n",
    "    b=a.text\n",
    "    for j in b:\n",
    "        j= str(j)\n",
    "        Text.append(j)\n",
    "#写入TXT文件\n",
    "f=open(\"文字描述.txt\",\"w\",encoding='utf-8')\n",
    "f.writelines(Text)\n",
    "f.close()\n",
    "#读入TXT文件\n",
    "with open(r'C:\\Users\\tlh\\大作业\\大作业\\文字描述.txt', encoding='utf-8') as f:\n",
    "    report = f.read()\n",
    "\n",
    "#词性分析\n",
    "ci1=[]\n",
    "ci2=[]\n",
    "\n",
    "words =jp.cut(report)\n",
    "lst1 = [x.word for x in words if x.flag == 'n']\n",
    "words =jp.cut(report)\n",
    "lst2 = [x.word for x in words if x.flag == 'a']\n",
    "\n",
    "for i in lst1:\n",
    "    if len(i)>=2:\n",
    "        ci1.append(i)\n",
    "for i in lst2:\n",
    "    if len(i)>=2:\n",
    "        ci2.append(i)\n",
    "\n",
    "#写入TXT文件\n",
    "f=open(\"分词n.txt\",\"w\",encoding='utf-8')\n",
    "f.writelines(ci1)\n",
    "f.close()\n",
    "f=open(\"分词a.txt\",\"w\",encoding='utf-8')\n",
    "f.writelines(ci2)\n",
    "f.close()\n",
    "#读入TXT文件\n",
    "with open(r'C:\\Users\\tlh\\大作业\\大作业\\分词n.txt', encoding='utf-8') as f:\n",
    "    fen1 = f.read()\n",
    "fencin=' '.join(jieba.cut(fen1))\n",
    "with open(r'C:\\Users\\tlh\\大作业\\大作业\\分词a.txt', encoding='utf-8') as f:\n",
    "    fen2 = f.read()\n",
    "fencia=' '.join(jieba.cut(fen2))\n",
    "# read the mask\n",
    "t_coloring = np.array(Image.open(r'C:\\Users\\tlh\\大作业\\大作业\\背景图.png'))\n",
    "stopwords = set(STOPWORDS)\n",
    "stopwords.add('公园')\n",
    "stopwords.add('景区')\n",
    "stopwords.add('度假区')\n",
    "\n",
    "# create coloring from image\n",
    "from wordcloud import ImageColorGenerator\n",
    "image_colors = ImageColorGenerator(t_coloring)\n",
    "\n",
    "# Generate a word cloud image\n",
    "wcn = WordCloud(background_color=\"white\", max_words=80, \n",
    "               mask=t_coloring,stopwords=stopwords, \n",
    "               color_func=image_colors,max_font_size=200,\n",
    "               font_path='C\\Windows\\Fonts\\simsun.ttc',\n",
    "              min_word_length=2,contour_width=1, contour_color='blue').generate(fencin)\n",
    "wca = WordCloud(background_color=\"white\", max_words=80, \n",
    "               mask=t_coloring,stopwords=stopwords, \n",
    "               color_func=image_colors,max_font_size=200,\n",
    "               font_path='C\\Windows\\Fonts\\simsun.ttc',\n",
    "              min_word_length=2,contour_width=1, contour_color='blue').generate(fencia)\n",
    "# show\n",
    "import matplotlib.pyplot as plt\n",
    "plt.imshow(wcn, interpolation=\"bilinear\")\n",
    "plt.axis(\"off\")\n",
    "plt.savefig('名词词云.jpg',dpi=500)\n",
    "plt.show()\n",
    "plt.imshow(wca, interpolation=\"bilinear\")\n",
    "plt.axis(\"off\")\n",
    "plt.savefig('形容词词云.jpg',dpi=500)"
   ]
  },
  {
   "cell_type": "markdown",
   "metadata": {},
   "source": [
    "分别统计各省/市/自治区的5A景区、4A景区和3A景区的数量，对5A景区/4A景区/3A景区，分别绘制一张饼图显示各省/市/自治区该级别景区数量的比例，其中只对数量排在前15的各省/市/自治区进行单独处理，剩下各省/市/自治区统一处理，得到类似如下的结果；   分值：5\n",
    "\n",
    "\n",
    "或者：分别统计各省/市/自治区的5A景区、4A景区和3A景区的数量，对5A景区/4A景区/3A景区，分别绘制一张地图显示各省/市/自治区该级别景区的数量，并根据数据进行颜色映射，得到类似如下的结果；   分值：5\n"
   ]
  },
  {
   "cell_type": "code",
   "execution_count": 97,
   "metadata": {},
   "outputs": [
    {
     "data": {
      "text/plain": [
       "'C:\\\\Users\\\\tlh\\\\大作业\\\\大作业\\\\3A景区.html'"
      ]
     },
     "execution_count": 97,
     "metadata": {},
     "output_type": "execute_result"
    }
   ],
   "source": [
    "from pyecharts.charts import *\n",
    "from pyecharts import options as opts\n",
    "province = shengfen\n",
    "\n",
    "jingqu={}\n",
    "c1=()\n",
    "c2=()\n",
    "c3=()\n",
    "data1=[]\n",
    "data2=[]\n",
    "data3=[]\n",
    "d1=[]\n",
    "d2=[]\n",
    "d3=[]\n",
    "for i in shengfen:\n",
    "    a=pd.read_excel('Excel景点数据.xls',sheet_name=i)\n",
    "    b=a.level\n",
    "    a1=a2=a3=0\n",
    "    for j in b:\n",
    "        if j =='5A景区':\n",
    "            a1+=1\n",
    "        if j =='4A景区':\n",
    "            a2+=1\n",
    "        if j =='3A景区':\n",
    "            a3+=1\n",
    "    jingqu={'省份':i,'5A景区':a1,'4A景区':a2,'3A景区':a3}\n",
    "    c1=(jingqu['省份'],jingqu['5A景区'])\n",
    "    data1.append(c1)\n",
    "    c2=(jingqu['省份'],jingqu['4A景区'])\n",
    "    data2.append(c2)\n",
    "    c3=(jingqu['省份'],jingqu['3A景区'])\n",
    "    data3.append(c3)\n",
    "    d1.append(a1),d2.append(a2),d3.append(a3)\n",
    "#----------------------------------------------------\n",
    "map_ = (\n",
    "    Map()\n",
    "    .add('5A景区', data1, 'china')\n",
    "    .set_global_opts(\n",
    "            # VisualMapOpts：视觉映射配置项\n",
    "        visualmap_opts=opts.VisualMapOpts(\n",
    "            is_show = True,\n",
    "            type_ = \"color\",\n",
    "            min_ =min(d1),\n",
    "            max_ =max(d1),\n",
    "            range_color = ['#015482','#7bc8f6','#ca9bf7','#4b006e'],\n",
    "            range_size = None,\n",
    "            range_opacity = None,\n",
    "            orient = 'horizontal',\n",
    "            pos_left = 'center',\n",
    "            pos_right = None,\n",
    "            pos_top = None,\n",
    "            pos_bottom = None,\n",
    "        )\n",
    "    )\n",
    ")\n",
    "map_.render_notebook()\n",
    "map_.render('5A景区.html')\n",
    "#----------------------------------------------------------------------\n",
    "map1_ = (\n",
    "    Map()\n",
    "    .add('4A景区', data2, 'china')\n",
    "    .set_global_opts(\n",
    "            # VisualMapOpts：视觉映射配置项\n",
    "        visualmap_opts=opts.VisualMapOpts(\n",
    "            is_show = True,\n",
    "            type_ = \"color\",\n",
    "            min_ =min(d2),\n",
    "            max_ =max(d2),\n",
    "            range_color = ['#015482','#7bc8f6','#ca9bf7','#4b006e'],\n",
    "            range_size = None,\n",
    "            range_opacity = None,\n",
    "            orient = 'horizontal',\n",
    "            pos_left = 'center',\n",
    "            pos_right = None,\n",
    "            pos_top = None,\n",
    "            pos_bottom = None,\n",
    "        )\n",
    "    )\n",
    ")\n",
    "map1_.render_notebook()\n",
    "map1_.render('4A景区.html')\n",
    "#----------------------------------------------------------------------\n",
    "map2_ = (\n",
    "    Map()\n",
    "    .add('3A景区', data3, 'china')\n",
    "    .set_global_opts(\n",
    "            # VisualMapOpts：视觉映射配置项\n",
    "        visualmap_opts=opts.VisualMapOpts(\n",
    "            is_show = True,\n",
    "            type_ = \"color\",\n",
    "            min_ =min(d3),\n",
    "            max_ =max(d3),\n",
    "            range_color = ['#015482','#7bc8f6','#ca9bf7','#4b006e'],\n",
    "            range_size = None,\n",
    "            range_opacity = None,\n",
    "            orient = 'horizontal',\n",
    "            pos_left = 'center',\n",
    "            pos_right = None,\n",
    "            pos_top = None,\n",
    "            pos_bottom = None,\n",
    "        )\n",
    "    )\n",
    ")\n",
    "map2_.render_notebook()\n",
    "map2_.render('3A景区.html')"
   ]
  },
  {
   "cell_type": "markdown",
   "metadata": {},
   "source": [
    "根据景点的月售票量进行排序，并采用柱状图显示前20名的景点及其月售票量，设置纵坐标轴标签、图的标题，得到类似如下的结果；   分值：3\n"
   ]
  },
  {
   "cell_type": "code",
   "execution_count": 50,
   "metadata": {
    "scrolled": true
   },
   "outputs": [],
   "source": [
    "#print(jingdian)\n",
    "#print(xiaoliang)\n",
    "work_book=xlwt.Workbook(encoding='utf-8')\n",
    "sht1 = work_book.add_sheet('sheet1')\n",
    "sht1.write(0,0,'name')\n",
    "sht1.write(0,1,'sale')\n",
    "f1=f2=1\n",
    "for i in xiaoliang:\n",
    "    sht1.write(f1,1,i)\n",
    "    f1+=1\n",
    "for i in jingdian:\n",
    "    sht1.write(f2,0,i)\n",
    "    f2+=1\n",
    "work_book.save('景点名称和月销量数据.xls')\n",
    "import pandas as pd\n",
    "df = pd.read_excel('景点名称和月销量数据.xls')\n",
    "df.sort_values(by='sale',inplace=True,ascending=False)\n",
    "df1=df.head(20)\n",
    "df2=df1.values\n",
    "jd=[]\n",
    "xl=[]\n",
    "for i in df2:\n",
    "    jd.append(i[0])\n",
    "    xl.append(i[1])\n",
    "\n",
    "import matplotlib.pyplot as plt\n",
    "\n",
    "# 这两行代码解决 plt 中文显示的问题\n",
    "plt.rcParams['font.sans-serif'] = ['SimHei']\n",
    "plt.rcParams['axes.unicode_minus'] = False\n",
    "#单独弹出窗口\n",
    "%matplotlib qt5\n",
    "mc = jd\n",
    "yxl = xl\n",
    "plt.bar(mc, yxl)\n",
    "plt.title('月销量前20的景点')\n",
    "plt.ylabel('售票数量（张）',size=15)\n",
    "plt.xticks(rotation=90)#刻度值与坐标轴旋转90度\n",
    "plt.savefig('销量图.jpg',dpi=100,bbox_inches = 'tight')\n",
    "plt.show()"
   ]
  }
 ],
 "metadata": {
  "kernelspec": {
   "display_name": "Python 3",
   "language": "python",
   "name": "python3"
  },
  "language_info": {
   "codemirror_mode": {
    "name": "ipython",
    "version": 3
   },
   "file_extension": ".py",
   "mimetype": "text/x-python",
   "name": "python",
   "nbconvert_exporter": "python",
   "pygments_lexer": "ipython3",
   "version": "3.8.8"
  },
  "widgets": {
   "application/vnd.jupyter.widget-state+json": {
    "state": {},
    "version_major": 2,
    "version_minor": 0
   }
  }
 },
 "nbformat": 4,
 "nbformat_minor": 2
}
